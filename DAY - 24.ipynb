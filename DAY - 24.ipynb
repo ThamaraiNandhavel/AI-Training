{
 "cells": [
  {
   "cell_type": "code",
   "execution_count": null,
   "id": "1dc6c555",
   "metadata": {},
   "outputs": [],
   "source": [
    "#PRIMS ALGO\n",
    "#start with any node\n",
    "#pick the smallest element that connects with the edge\n",
    "#repeat the steps again until all nodes are visited"
   ]
  },
  {
   "cell_type": "code",
   "execution_count": null,
   "id": "3154fff5",
   "metadata": {},
   "outputs": [],
   "source": [
    "#prim's algo code:\n",
    "def prims(graph, start):\n",
    "    visited = set([start])\n",
    "    total_cost = 0\n",
    "\n",
    "    while len(visited) < len(graph):\n",
    "        edge = None\n",
    "        min_w = float('inf')\n",
    "        #find the smallest edge from visited -> unvisited\n",
    "        for u in visited:\n",
    "            for v, w in graph[u]:\n",
    "                if v not in visited and w < min_w:\n",
    "                    min_w = w\n",
    "                    edge = (u, v)\n",
    "        total_cost += min_w\n",
    "        visited.add(edge[1])\n",
    "    return total_cost\n",
    "    \n",
    "graph = {\n",
    "    'a':[('b',1),('c',3)],\n",
    "    'b':[('a',1),('c',2),('d',4)],\n",
    "    'c':[('a',3),('b',2),('d',5)],\n",
    "    'd':[('b',4),('c',5)]\n",
    "}\n",
    "print(\"prim's mst cost:\",prims(graph,'a'))"
   ]
  },
  {
   "cell_type": "code",
   "execution_count": null,
   "id": "7a171cdf",
   "metadata": {},
   "outputs": [],
   "source": [
    "#kruskerl's algorithm:\n",
    "#start with any node\n",
    "#sort edges by cost\n",
    "#don't form a loop or cycle \n",
    "# if it is form a loop or cycle then ignore the  edge"
   ]
  },
  {
   "cell_type": "code",
   "execution_count": null,
   "id": "241f64d8",
   "metadata": {},
   "outputs": [],
   "source": [
    "#kruskal's algorithm\n",
    "def find (parent, x):\n",
    "    if parent[x] != x:\n",
    "        parent[x] = find(parent, parent[x])\n",
    "    return parent[x]\n",
    "\n",
    "def kruskals(nodes, edges):\n",
    "    parent = {n: n for n in nodes}\n",
    "    edges.sort(key = lambda x: x[2])\n",
    "    total_cost = 0\n",
    "\n",
    "    for u, v, w in edges:\n",
    "        if find(parent, u) != find(parent, v):\n",
    "             parent[find(parent, u)] = find(parent, v)\n",
    "             total_cost += w\n",
    "    return total_cost\n",
    "nodes = ['a', 'b', 'c', 'd']\n",
    "edges = [\n",
    "    ('a', 'b', 1),\n",
    "    ('b', 'c', 2),\n",
    "    ('a', 'c', 3),\n",
    "    ('b', 'd', 4),\n",
    "    ('c', 'd', 5),\n",
    "]\n",
    "print(\"kruskals mst cost:\",kruskals(nodes, edges))"
   ]
  },
  {
   "cell_type": "code",
   "execution_count": null,
   "id": "1f1f508f",
   "metadata": {},
   "outputs": [],
   "source": [
    "#Dynamic program:\n",
    "'''   \n",
    "Dynamic programming is a method for desining algorithms.\n",
    "An algorithm deshigned with Dynamic Programming divides the problem into subproblems , and puts them together to form a complete solution to \n",
    "the problem we want to solve\n",
    "\n",
    "'''"
   ]
  },
  {
   "cell_type": "code",
   "execution_count": null,
   "id": "9d849814",
   "metadata": {},
   "outputs": [],
   "source": [
    "#DP = Smart recursion  + memory\n",
    "'''   \n",
    "over lapping subproblems - you solve the same subproblem many times\n",
    "optimal substructure - solve big problem using optimal solutions of smaller problems\n",
    "'''\n",
    "\n",
    "'''   \n",
    "examples:\n",
    "  climbing stairs\n",
    "  fibonacci\n",
    "  coin change \n",
    "  House robber\n",
    "'''\n",
    "\n",
    "'''   \n",
    "1.Memoization - is a technique where results are stored to avoid doing \n",
    "the same computations many times ,Recursive approach\n",
    "2.Tabulation - It follows a iteration Approach(bottem up approach)\n",
    "'''\n",
    "\n",
    "'''   \n",
    "DP Building Blocks\n",
    " 1.state - What changes at each step? -> i, amount, etc\n",
    " 2.Decision - what options do i have? -> climb 1 or 2 steps\n",
    " 3.Bsae case - what do i start from?\n",
    " '''"
   ]
  },
  {
   "cell_type": "code",
   "execution_count": 2,
   "id": "7adee6b7",
   "metadata": {},
   "outputs": [
    {
     "name": "stdout",
     "output_type": "stream",
     "text": [
      "3\n"
     ]
    }
   ],
   "source": [
    "#climbing stairs\n",
    "#method 1 : Recursion\n",
    "def climb(n):\n",
    "    if n <= 1:\n",
    "        return 1\n",
    "    return climb(n-1) + climb(n-2)\n",
    "print(climb(3))"
   ]
  },
  {
   "cell_type": "code",
   "execution_count": null,
   "id": "f8b1d12a",
   "metadata": {},
   "outputs": [],
   "source": [
    "#method 3: memoization (fast) - top down\n",
    "memory = {}\n",
    "def climb(n):\n",
    "    if n <= 1:\n",
    "        return 1\n",
    "    if n in memory:\n",
    "        return memory[n]\n",
    "    memory[n] = climb(n-1) + climb(n-2)\n",
    "    return memory[n]\n",
    "print(climb(5))"
   ]
  },
  {
   "cell_type": "code",
   "execution_count": null,
   "id": "5bfd6226",
   "metadata": {},
   "outputs": [],
   "source": [
    "#method3 :Tabulation\n",
    "def climb(n):\n",
    "    if n <= 2:\n",
    "        return n\n",
    "    dp = [0] * (n+1)\n",
    "    dp[0] = dp[1] = 1\n",
    "    for i in range(2, n+1):\n",
    "        dp[i] = dp[i-1] + dp[i-2]\n",
    "    return dp[n]\n",
    "print(climb(5))"
   ]
  },
  {
   "cell_type": "code",
   "execution_count": null,
   "id": "ae7f002b",
   "metadata": {},
   "outputs": [],
   "source": [
    "#recursive approach\n",
    "def mincoins(coins, amount):\n",
    "    if amount == 0:\n",
    "        return 0\n",
    "    res = None\n",
    "    for coin in coins:\n",
    "        if amount - coin >= 0:\n",
    "            ans = mincoins(coins, amount - coin)\n",
    "            if ans is not None:\n",
    "                if res is None or ans + 1 < res:\n",
    "                    res = ans + 1\n",
    "    return res\n",
    "\n",
    "print(mincoins([1, 3, 4], 6))  # Output: 2 (3+3 or 4+1+1)"
   ]
  },
  {
   "cell_type": "code",
   "execution_count": 3,
   "id": "ffa20714",
   "metadata": {},
   "outputs": [
    {
     "name": "stdout",
     "output_type": "stream",
     "text": [
      "2\n"
     ]
    }
   ],
   "source": [
    "#Tabulation - bottom up approach\n",
    "def mincoins(coins, amount):\n",
    "    dp = [float('inf')] * (amount + 1)\n",
    "    dp[0] = 0  # 0 coins needed for amount 0\n",
    "    \n",
    "    for x in range(1, amount + 1):\n",
    "        for coin in coins:\n",
    "            if x - coin >= 0:\n",
    "                dp[x] = min(dp[x], dp[x - coin] + 1)\n",
    "    \n",
    "    return dp[amount] if dp[amount] != float('inf') else -1\n",
    "\n",
    "print(mincoins([1, 3, 4], 6))"
   ]
  },
  {
   "cell_type": "code",
   "execution_count": null,
   "id": "862de86d",
   "metadata": {},
   "outputs": [],
   "source": [
    "#you are robbing the house on a street, Each house has some money\n",
    "#if you rob two next to each other police catch you\n",
    "#you need max total money without robbing two  side by side houses"
   ]
  },
  {
   "cell_type": "code",
   "execution_count": null,
   "id": "2381f7be",
   "metadata": {},
   "outputs": [],
   "source": [
    "#native recursive approach\n",
    "def rob(nums, i = 0):\n",
    "    if i >= len(nums):\n",
    "        return 0 \n",
    "    return max(rob(nums, i+1), nums[i] + rob(nums, i+2))\n",
    "rob([2,1,4,5])"
   ]
  }
 ],
 "metadata": {
  "kernelspec": {
   "display_name": "Python 3",
   "language": "python",
   "name": "python3"
  },
  "language_info": {
   "codemirror_mode": {
    "name": "ipython",
    "version": 3
   },
   "file_extension": ".py",
   "mimetype": "text/x-python",
   "name": "python",
   "nbconvert_exporter": "python",
   "pygments_lexer": "ipython3",
   "version": "3.12.6"
  }
 },
 "nbformat": 4,
 "nbformat_minor": 5
}
