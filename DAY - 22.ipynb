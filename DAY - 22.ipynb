{
 "cells": [
  {
   "cell_type": "code",
   "execution_count": null,
   "id": "cdac1959",
   "metadata": {},
   "outputs": [],
   "source": [
    "#problems and algorithm in backtracking\n",
    "'''subset,stable marriage,enqween,hamiltonion problem ,sudzzo3'''"
   ]
  },
  {
   "cell_type": "code",
   "execution_count": null,
   "id": "3cd0a6d5",
   "metadata": {},
   "outputs": [],
   "source": [
    "#TREE - O(log n) - hierarchical datastructure\n",
    "''' // node - storing a data //\n",
    " 1.root - top node \n",
    " 2.child - node from parent\n",
    " 3.parent - having a childern\n",
    " 4.edges - connecting the nodes\n",
    " 5.leaf node - node without child\n",
    " 6.height - length of root to leaf node and no of nodes in btw\n",
    " 7.depth - level of the tree \n",
    " 8.ancestors - nodes above the node\n",
    " 6.decestors or decendants - nodes below the node\n",
    " // traversal - the way how we reach the destination //\n",
    "'''\n",
    "'''binary tree ,binary search tree , avl tree, redblack tree'''\n"
   ]
  },
  {
   "cell_type": "code",
   "execution_count": 8,
   "id": "a6f95dee",
   "metadata": {},
   "outputs": [
    {
     "name": "stdout",
     "output_type": "stream",
     "text": [
      "CEO\n",
      "     CFO\n",
      "     CTO\n",
      "          QA\n",
      "          DEV\n",
      "     COO\n",
      "          OPS\n"
     ]
    }
   ],
   "source": [
    "#Tree Implementation\n",
    "\n",
    "#node creation\n",
    "class treenode():\n",
    "    def __init__(self,val):\n",
    "        self.val = val\n",
    "        self.c = []\n",
    "ceo = treenode(\"CEO\")\n",
    "cfo = treenode(\"CFO\")\n",
    "cto = treenode(\"CTO\")\n",
    "coo = treenode(\"COO\")\n",
    "qa = treenode(\"QA\")\n",
    "dev = treenode(\"DEV\")\n",
    "ops = treenode(\"OPS\")\n",
    "#making parent and child class\n",
    "ceo.c = [cfo,cto,coo]\n",
    "cto.c = [qa,dev]\n",
    "coo.c = [ops]\n",
    "#traversing\n",
    "def traverse(node , level =0):\n",
    "    print(\"     \"*level + node.val)\n",
    "    for child in node.c:\n",
    "        traverse(child ,level+1)\n",
    "traverse(ceo)"
   ]
  },
  {
   "cell_type": "code",
   "execution_count": null,
   "id": "05f17bab",
   "metadata": {},
   "outputs": [
    {
     "name": "stdout",
     "output_type": "stream",
     "text": [
      "                   40\n",
      "          30\n",
      "                   25\n",
      " 20\n",
      "                   18\n",
      "          10\n",
      "                   5\n"
     ]
    }
   ],
   "source": [
    "#Binary tree : \n",
    "'''traversal: DFS\n",
    "1. inorder -  LPR (u)\n",
    "2. preorder - PLR (D)\n",
    "3. postorder - LRP(D)\n",
    "'''\n",
    "class Node():\n",
    "    def __init__(self,val):\n",
    "        self.val = val\n",
    "        self.left = None\n",
    "        self.right = None\n",
    "#insertion\n",
    "def insert(root,val):\n",
    "    if root is None:\n",
    "        return Node(val)\n",
    "    if val < root.val:\n",
    "        root.left = insert(root.left , val)\n",
    "    else:\n",
    "        root.right = insert(root.right,val)\n",
    "    return root\n",
    "def print_tree(node,level=0):\n",
    "    if node is not None:\n",
    "        print_tree(node.right,level+1)\n",
    "        print(\"         \"*level,node.val)\n",
    "        print_tree(node.left,level+1)\n",
    "val = [20,10,30,40,25,18,5]\n",
    "root = None\n",
    "for v in val:\n",
    "    root = insert(root,v)\n",
    "print_tree(root)\n",
    "        \n",
    "      \n"
   ]
  },
  {
   "cell_type": "code",
   "execution_count": null,
   "id": "cd9e8815",
   "metadata": {},
   "outputs": [
    {
     "name": "stdout",
     "output_type": "stream",
     "text": [
      "                   40\n",
      "          30\n",
      "                   25\n",
      " 20\n",
      "                   18\n",
      "          10\n",
      "                   5\n",
      "\n",
      "\n",
      "inorder traversal:\n",
      "5 , 10 , 18 , 20 , 25 , 30 , 40 , \n",
      "\n",
      "preorder traversal:\n",
      "20 , 10 , 5 , 18 , 30 , 25 , 40 , \n",
      "\n",
      "postorder traversal:\n",
      "5  ,  18  ,  10  ,  25  ,  40  ,  30  ,  20  ,  \n",
      "\n"
     ]
    }
   ],
   "source": [
    "#inorder \n",
    "class Node():\n",
    "    def __init__(self,val):\n",
    "        self.val = val\n",
    "        self.left = None\n",
    "        self.right = None\n",
    "#insertion\n",
    "def insert(root,val):\n",
    "    if root is None:\n",
    "        return Node(val)\n",
    "    if val < root.val:\n",
    "        root.left = insert(root.left , val)\n",
    "    else:\n",
    "        root.right = insert(root.right,val)\n",
    "    return root\n",
    "def inorder(root):\n",
    "    if root:\n",
    "        inorder(root.left)\n",
    "        print(root.val,end = \" , \")\n",
    "        inorder(root.right)\n",
    "def preorder(root):\n",
    "    if root:\n",
    "        print(root.val,end = \" , \")=\n",
    "        preorder(root.left)\n",
    "        preorder(root.right)\n",
    "def postorder(root):\n",
    "    if root:\n",
    "        postorder(root.left)\n",
    "        postorder(root.right)\n",
    "        print(root.val,end =\"  ,  \" )\n",
    "\n",
    "\n",
    "val = [20,10,30,40,25,18,5]\n",
    "root = None\n",
    "for v in val:\n",
    "    root = insert(root,v)\n",
    "print_tree(root)\n",
    "print(\"\\n\")\n",
    "print(\"inorder traversal:\")\n",
    "inorder(root)\n",
    "print(\"\\n\")\n",
    "print(\"preorder traversal:\")\n",
    "preorder(root)\n",
    "print(\"\\n\")\n",
    "print(\"postorder traversal:\")\n",
    "postorder(root)\n",
    "print(\"\\n\")\n",
    "\n",
    "\n"
   ]
  },
  {
   "cell_type": "code",
   "execution_count": 26,
   "id": "5d96c6d8",
   "metadata": {},
   "outputs": [
    {
     "name": "stdout",
     "output_type": "stream",
     "text": [
      "2\n"
     ]
    }
   ],
   "source": [
    "#height - max(height of left , height of right ) + 1\n",
    "def height(root):\n",
    "    if not root:\n",
    "        return  -1\n",
    "    return 1+max(height(root.left),height(root.right))\n",
    "print(height(root))"
   ]
  },
  {
   "cell_type": "code",
   "execution_count": 33,
   "id": "77227459",
   "metadata": {},
   "outputs": [
    {
     "name": "stdout",
     "output_type": "stream",
     "text": [
      "4\n"
     ]
    }
   ],
   "source": [
    "#to count leaf nodes\n",
    "def count_ln(root):\n",
    "    if not root:\n",
    "        return 0\n",
    "    if not root.left and not root.right:\n",
    "        return 1\n",
    "    return count_ln(root.left) + count_ln(root.right)\n",
    "print(count_ln(root))"
   ]
  },
  {
   "cell_type": "code",
   "execution_count": 34,
   "id": "d142f371",
   "metadata": {},
   "outputs": [
    {
     "name": "stdout",
     "output_type": "stream",
     "text": [
      "True\n"
     ]
    }
   ],
   "source": [
    "#to check balance or not\n",
    "def count_ln(root):\n",
    "    if not root:\n",
    "        return 0\n",
    "    if count_ln(root.left) == count_ln(root.right):\n",
    "        return True\n",
    "    return False\n",
    "print(count_ln(root))"
   ]
  },
  {
   "cell_type": "code",
   "execution_count": 35,
   "id": "2a931019",
   "metadata": {},
   "outputs": [
    {
     "name": "stdout",
     "output_type": "stream",
     "text": [
      "2\n",
      "True\n"
     ]
    }
   ],
   "source": [
    "#height = max(height of left , height of right) + 1\n",
    "def height(root):\n",
    "    if not root:\n",
    "        return -1\n",
    "    return 1+max(height(root.left),height(root.right))\n",
    "def balance(root):\n",
    "    if not root:\n",
    "        return False\n",
    "    return (height(root.left) == height(root.right))\n",
    "print(height(root))\n",
    "print(balance(root))"
   ]
  }
 ],
 "metadata": {
  "kernelspec": {
   "display_name": "Python 3",
   "language": "python",
   "name": "python3"
  },
  "language_info": {
   "codemirror_mode": {
    "name": "ipython",
    "version": 3
   },
   "file_extension": ".py",
   "mimetype": "text/x-python",
   "name": "python",
   "nbconvert_exporter": "python",
   "pygments_lexer": "ipython3",
   "version": "3.12.6"
  }
 },
 "nbformat": 4,
 "nbformat_minor": 5
}
