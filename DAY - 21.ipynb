{
 "cells": [
  {
   "cell_type": "code",
   "execution_count": 4,
   "id": "995da1bc",
   "metadata": {},
   "outputs": [
    {
     "data": {
      "text/plain": [
       "'fun - calling fun outside the func\\nrec - calling fun inside the func\\nbase_case - if len == 1 ,return 1'"
      ]
     },
     "execution_count": 4,
     "metadata": {},
     "output_type": "execute_result"
    }
   ],
   "source": [
    "#RECURSION - a function call itself\n",
    "\n",
    "'''fun - calling fun outside the func\n",
    "rec - calling fun inside the func\n",
    "base_case - if len == 1 ,return 1'''"
   ]
  },
  {
   "cell_type": "code",
   "execution_count": 12,
   "id": "19cee440",
   "metadata": {},
   "outputs": [
    {
     "name": "stdout",
     "output_type": "stream",
     "text": [
      "flr available\n",
      "flr available\n",
      "fb ready\n"
     ]
    }
   ],
   "source": [
    "def fb(flr):\n",
    "    if flr == 1:             #base_case\n",
    "        return \"fb ready\"     \n",
    "    elif flr > 1:\n",
    "        print(\"flr available\")   # recursive case \n",
    "        return fb(flr - 1)\n",
    "f = fb(3)\n",
    "print(f)"
   ]
  },
  {
   "cell_type": "code",
   "execution_count": null,
   "id": "7ca71322",
   "metadata": {},
   "outputs": [
    {
     "name": "stdout",
     "output_type": "stream",
     "text": [
      "120\n"
     ]
    }
   ],
   "source": [
    "#without recursion \n",
    "def fact(n):\n",
    "    result = 1\n",
    "    for i in range(2, n + 1):  \n",
    "        result *= i\n",
    "    return result\n",
    "print(fact(5))"
   ]
  },
  {
   "cell_type": "code",
   "execution_count": null,
   "id": "3572fb9b",
   "metadata": {},
   "outputs": [
    {
     "name": "stdout",
     "output_type": "stream",
     "text": [
      "120\n"
     ]
    }
   ],
   "source": [
    "def fact(n):\n",
    "    if (n>1) :\n",
    "        return n*fact(n-1)  #r\n",
    "    return n\n",
    "print(fact(5))"
   ]
  },
  {
   "cell_type": "code",
   "execution_count": null,
   "id": "09a097a6",
   "metadata": {},
   "outputs": [
    {
     "name": "stdout",
     "output_type": "stream",
     "text": [
      "120\n"
     ]
    }
   ],
   "source": [
    "def fact(n):\n",
    "    if n == 1:\n",
    "        return 1\n",
    "    else:\n",
    "        return n*fact(n-1) #r\n",
    "print(fact(5))"
   ]
  },
  {
   "cell_type": "code",
   "execution_count": 1,
   "id": "db446d97",
   "metadata": {},
   "outputs": [
    {
     "name": "stdout",
     "output_type": "stream",
     "text": [
      "21\n"
     ]
    }
   ],
   "source": [
    "#fibonacci series\n",
    "'''f(0)=0  \n",
    "   f(1)=1 \n",
    "   f =f(n-1)+f(n-2)\n",
    "   recursive tree - give possible ways \n",
    "   '''\n",
    "# fibo \n",
    "def fibo(n):\n",
    "    a = 0\n",
    "    b =1\n",
    "    if (n==1):\n",
    "        return 1\n",
    "    elif (n==0):\n",
    "        return 0\n",
    "    for i in range (2,n+1):\n",
    "        temp = a+b\n",
    "        a = b\n",
    "        b=temp\n",
    "    return b\n",
    "print(fibo(8))"
   ]
  },
  {
   "cell_type": "code",
   "execution_count": null,
   "id": "5e1d940a",
   "metadata": {},
   "outputs": [
    {
     "name": "stdout",
     "output_type": "stream",
     "text": [
      "46368\n"
     ]
    }
   ],
   "source": [
    "#fibo - recursion :fibo is not built in method, it works on rec tree method \n",
    "def fibo(n):\n",
    "    if n==0:\n",
    "        return 0\n",
    "    elif n==1:\n",
    "        return 1\n",
    "    return fibo(n-1)+fibo(n-2)\n",
    "print(fibo(24))"
   ]
  },
  {
   "cell_type": "code",
   "execution_count": null,
   "id": "9dc00f99",
   "metadata": {},
   "outputs": [
    {
     "name": "stdout",
     "output_type": "stream",
     "text": [
      "22\n"
     ]
    }
   ],
   "source": [
    "#sum of digits \n",
    "def sd(n):\n",
    "    sum = 0\n",
    "    while n > 0:\n",
    "        sum += n % 10\n",
    "        n = n//10\n",
    "    return sum\n",
    "print(sd(244264))\n"
   ]
  },
  {
   "cell_type": "code",
   "execution_count": null,
   "id": "7f59b741",
   "metadata": {},
   "outputs": [
    {
     "name": "stdout",
     "output_type": "stream",
     "text": [
      "22\n"
     ]
    }
   ],
   "source": [
    "#recursion method of sum of digits \n",
    "def sd(n):\n",
    "    if n == 0:\n",
    "        return 0\n",
    "    else:\n",
    "        return (n % 10) + sd(n // 10)\n",
    "print(sd(244264))"
   ]
  },
  {
   "cell_type": "code",
   "execution_count": null,
   "id": "6bff106e",
   "metadata": {},
   "outputs": [
    {
     "name": "stdout",
     "output_type": "stream",
     "text": [
      "6\n",
      "5\n",
      "3\n"
     ]
    }
   ],
   "source": [
    "# imagine you have a stack of coins ,count how many coins in the stack ,after counting you can remove that from the stack,but you can remove only one at a time and remove it to aback\n",
    "def sc(c):\n",
    "    count = len(c)          \n",
    "    return count     \n",
    "stack = [1,1,1,1,1,1] \n",
    "print(sc(stack))\n",
    "\n",
    "#############################################  \n",
    "def coins(list1):\n",
    "    if not list1:\n",
    "        return 0\n",
    "    return 1+coins(list1[1:])\n",
    "list1 = [1,1,1,1,1]                                   \n",
    "print(coins(list1))\n",
    "\n",
    "#############################################\n",
    "def coins(list1):\n",
    "    if not list1:\n",
    "        return 0\n",
    "    return list1.pop(0)+coins(list1)\n",
    "list1 = [1,1,0,0,1]\n",
    "print(coins(list1))\n"
   ]
  },
  {
   "cell_type": "code",
   "execution_count": null,
   "id": "5691bb54",
   "metadata": {},
   "outputs": [
    {
     "name": "stdout",
     "output_type": "stream",
     "text": [
      "100\n"
     ]
    }
   ],
   "source": [
    "def folder_name (folder):\n",
    "    total = 0\n",
    "    for key , values in folder.items():\n",
    "        if isinstance(values, dict):    #int - file,dict - subfolder ,inndepth acces of the folder \n",
    "            total+=folder_name(values)   #rec\n",
    "        else:\n",
    "            total+=values\n",
    "    return total\n",
    "file = {\n",
    "    'file1.txt': 10,\n",
    "    'folder2': {\n",
    "        'file3': 20,\n",
    "        'file4.txt': 40\n",
    "    },\n",
    "    'folder3': 30}\n",
    "print(folder_name(file))\n",
    "              \n",
    "    "
   ]
  },
  {
   "cell_type": "code",
   "execution_count": null,
   "id": "c024e300",
   "metadata": {},
   "outputs": [],
   "source": [
    "#BACKTRACKING \n",
    "# choice , explore , backtrack\n",
    "'''\n",
    "function backtracking(state);\n",
    "    if state is a solution:\n",
    "        return state(#base case)\n",
    "    for choice in all possible choice:\n",
    "        if choice is valid:\n",
    "            make choice\n",
    "            result = backtracking(state with choice)\n",
    "            if result is not failure:\n",
    "                result return\n",
    "            undo choice\n",
    "    return failure\n",
    "    \n",
    "'''"
   ]
  },
  {
   "cell_type": "code",
   "execution_count": null,
   "id": "bb5ea457",
   "metadata": {},
   "outputs": [
    {
     "name": "stdout",
     "output_type": "stream",
     "text": [
      "[1, 2, 3]\n",
      "[1, 3, 2]\n",
      "[2, 1, 3]\n",
      "[2, 3, 1]\n",
      "[3, 1, 2]\n",
      "[3, 2, 1]\n"
     ]
    }
   ],
   "source": [
    "#pin number\n",
    "'''path - stores the possible digits in a list\n",
    "#digit - available digits ex. 1,2,3\n",
    " #uesd - check whether it is already there to avoid repeating\n",
    "'''\n",
    "def pin_num(path , digits , used,result):\n",
    "    if (len(path)==len(digits)): \n",
    "        result.append(path.copy()) #store valid pin only  \n",
    "        return #base case          \n",
    "    for i in range(len(digits)):\n",
    "        if not used[i]:\n",
    "            used[i] = True \n",
    "            path.append(digits[i])\n",
    "            pin_num(path,digits,used,result)   #backtracking steps\n",
    "            path.pop()\n",
    "            used[i] = False\n",
    "result = []\n",
    "digits = [1,2,3]\n",
    "used = [False] * len(digits)\n",
    "pin_num([],digits,used,result)\n",
    "for i in result:\n",
    "    print(i)"
   ]
  },
  {
   "cell_type": "code",
   "execution_count": null,
   "id": "4353819f",
   "metadata": {},
   "outputs": [],
   "source": [
    "def findCombinations(dishes, target):\n",
    "    result = []\n",
    "    def backtrack(start, path, current_sum):\n",
    "        if current_sum == target:\n",
    "            result.append(path.copy())\n",
    "            return\n",
    "        if current_sum > target:\n",
    "            return\n",
    "        for i in range(start, len(dishes)):\n",
    "            path.append(dishes[i])\n",
    "            backtrack(i, path, current_sum + dishes[i])\n",
    "            path.pop()\n",
    "    backtrack(0, [], 0)\n",
    "    return result\n",
    "dishes = [200, 250, 150]\n",
    "target = 700\n",
    "print(findCombinations(dishes, target))\n"
   ]
  }
 ],
 "metadata": {
  "kernelspec": {
   "display_name": "Python 3",
   "language": "python",
   "name": "python3"
  },
  "language_info": {
   "codemirror_mode": {
    "name": "ipython",
    "version": 3
   },
   "file_extension": ".py",
   "mimetype": "text/x-python",
   "name": "python",
   "nbconvert_exporter": "python",
   "pygments_lexer": "ipython3",
   "version": "3.12.6"
  }
 },
 "nbformat": 4,
 "nbformat_minor": 5
}
