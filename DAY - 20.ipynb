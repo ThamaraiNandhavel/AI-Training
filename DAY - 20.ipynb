{
 "cells": [
  {
   "cell_type": "code",
   "execution_count": null,
   "id": "21a9074c",
   "metadata": {},
   "outputs": [],
   "source": [
    "'''DSA - stack and queue - linear data structure [# O(1) ]\n",
    "stack - LIFO\n",
    "  1.push - add   \n",
    "  2.pop - remove \n",
    "  3.peek - top of the element(lastly added elt)\n",
    "  4.Isempty - check whether the stack is empty or not\n",
    "  5.size - stack size\n",
    "queue - FIFO'''"
   ]
  },
  {
   "cell_type": "code",
   "execution_count": null,
   "id": "60e2271a",
   "metadata": {},
   "outputs": [
    {
     "name": "stdout",
     "output_type": "stream",
     "text": [
      "[]\n"
     ]
    }
   ],
   "source": [
    "stack = []\n",
    "def push(stack):\n",
    "     append.stack\n",
    "def pop(stack):\n",
    "     pop.stack\n",
    "push = 3\n",
    "push = 4\n",
    "pop = 4\n",
    "push = 7\n",
    "print(stack)"
   ]
  },
  {
   "cell_type": "code",
   "execution_count": 15,
   "id": "35744a22",
   "metadata": {},
   "outputs": [
    {
     "name": "stdout",
     "output_type": "stream",
     "text": [
      "[3, 6, 7, 0]\n"
     ]
    }
   ],
   "source": [
    "class stack():\n",
    "    def __init__(self):\n",
    "        self.stack = []\n",
    "    def push(self,num):\n",
    "        self.stack.append(num)\n",
    "    def pop(self):\n",
    "        if self.Is_empty:\n",
    "            print(\"stack is empty can't pop element\")\n",
    "        return self.stack.pop()\n",
    "    def peek(self):\n",
    "        return self.stack[-1]\n",
    "    def isempty(self):\n",
    "        return len(self.stack)==0\n",
    "    def size(self):\n",
    "        return len(self.stack)\n",
    "    def display(self):\n",
    "        print(self.stack)\n",
    "s = stack()\n",
    "s.push(3)\n",
    "s.push(6)\n",
    "s.push(7)\n",
    "s.push(0)\n",
    "s.display()"
   ]
  },
  {
   "cell_type": "code",
   "execution_count": null,
   "id": "2bf7890b",
   "metadata": {},
   "outputs": [
    {
     "name": "stdout",
     "output_type": "stream",
     "text": [
      "True\n",
      "False\n"
     ]
    }
   ],
   "source": [
    "s = \"{([])}\"\n",
    "pairs = {')':'(' , ']':'[' , ')':'('} \n",
    "#stack\n",
    "list1 = []\n",
    "for ch in s:\n",
    "    if ch in pairs.values(): # opening brackets\n",
    "        list1.append(ch)\n",
    "    elif ch in pairs:\n",
    "        if not list1 or list1.pop()!=pairs[ch]:   # closing bracket\n",
    "            print(\"False\")\n",
    "            break\n",
    "        print(\"True\")\n",
    "    else:\n",
    "        print(len(list1)==0)"
   ]
  },
  {
   "cell_type": "code",
   "execution_count": null,
   "id": "095a900c",
   "metadata": {},
   "outputs": [
    {
     "name": "stdout",
     "output_type": "stream",
     "text": [
      "First input is valid: True\n",
      "Second input is valid: False\n"
     ]
    }
   ],
   "source": [
    "\n",
    "def is_valid_brackets(s):\n",
    "    pairs = {')': '(', ']': '[', '}': '{'}\n",
    "    stack = []\n",
    "    for ch in s:\n",
    "        if ch in pairs.values():  # Opening brackets\n",
    "            stack.append(ch)\n",
    "        elif ch in pairs:         # Closing brackets\n",
    "            if not stack or stack.pop() != pairs[ch]:\n",
    "                return False\n",
    "        else:\n",
    "            continue  # Ignore other characters if any\n",
    "\n",
    "    return len(stack) == 0\n",
    "s1 = input()\n",
    "s2 = input()\n",
    "print( is_valid_brackets(s1))"
   ]
  },
  {
   "cell_type": "code",
   "execution_count": null,
   "id": "931724dc",
   "metadata": {},
   "outputs": [
    {
     "name": "stdout",
     "output_type": "stream",
     "text": [
      "False\n",
      "True\n"
     ]
    }
   ],
   "source": [
    "def process_string_pair(s, t):\n",
    "    stack1 = []\n",
    "    stack2 = []\n",
    "    for ch in s:\n",
    "        if ch == '*':\n",
    "            if stack1:\n",
    "                stack1.pop()\n",
    "        else:\n",
    "            stack1.append(ch)\n",
    "    for ch in t:\n",
    "        if ch == '*':\n",
    "            if stack2:\n",
    "                stack2.pop()\n",
    "        else:\n",
    "            stack2.append(ch)\n",
    "\n",
    "    return stack1 == stack2\n",
    "s1 = \"ab*c\"\n",
    "t1 = \"a*c\"\n",
    "s2 = \"a**bc\"\n",
    "t2 = \"bc\"\n",
    "print(process_string_pair(s1, t1))  # True\n",
    "print(process_string_pair(s2, t2))  # True"
   ]
  },
  {
   "cell_type": "code",
   "execution_count": null,
   "id": "0c0044b9",
   "metadata": {},
   "outputs": [],
   "source": [
    "#implement queue using stack\n",
    "class queue():\n",
    "    def _init_(self):\n",
    "        self.stack1 = []\n",
    "        self.stack2 = []\n",
    "    def enqueue(self,val):\n",
    "        self.stack1.append(val)\n",
    "    def dequeue(self):\n",
    "        if not self.stack2:\n",
    "            while self.stack1:\n",
    "                self.stack2.append(self.stack1.pop())\n",
    "            return self.stack2[-1]\n",
    "    def is_empty(self):\n",
    "        return not self.stack1 and not self.stack2\n",
    "A1 = queue()\n",
    "A1.enqueue(1)\n",
    "A1.enqueue(3)\n",
    "A1.enqueue(5)\n",
    "A1.dequeue()"
   ]
  },
  {
   "cell_type": "code",
   "execution_count": 1,
   "id": "ac69597a",
   "metadata": {},
   "outputs": [
    {
     "name": "stdout",
     "output_type": "stream",
     "text": [
      "stack [1]\n",
      "min_stack [1]\n",
      "stack [1, -2]\n",
      "min_stack [1, -2]\n",
      "stack [1, -2, -5]\n",
      "min_stack [1, -2, -5]\n",
      "stack [1, -2, -5, 7]\n",
      "min_stack [1, -2, -5]\n"
     ]
    },
    {
     "data": {
      "text/plain": [
       "-5"
      ]
     },
     "execution_count": 1,
     "metadata": {},
     "output_type": "execute_result"
    }
   ],
   "source": [
    "#SMT\n",
    "class minstack():\n",
    "    def __init__(self):\n",
    "        self.stack = []\n",
    "        self.min_stack =[]\n",
    "    def push(self,val):\n",
    "        self.stack.append(val)\n",
    "        print(\"stack\",self.stack)\n",
    "        if not self.min_stack or val <= self.min_stack[-1]:\n",
    "            self.min_stack.append(val)\n",
    "        print(\"min_stack\",self.min_stack)\n",
    "    def top(self):\n",
    "        return self.stack[-1]\n",
    "    def pop(self):\n",
    "        if self.stack[-1]==self.min_stack[-1]:\n",
    "            return self.min_stack.pop()\n",
    "        return self.stack.pop()\n",
    "    def get_min(self):\n",
    "        return self.min_stack[-1]\n",
    "a1 = minstack()\n",
    "a1.push(1)\n",
    "a1.push(-2)\n",
    "a1.push(-5)\n",
    "a1.push(7)\n",
    "a1.get_min()"
   ]
  },
  {
   "cell_type": "code",
   "execution_count": null,
   "id": "b47bbe06",
   "metadata": {},
   "outputs": [],
   "source": [
    "#queue \n",
    "#queue-fifo \n",
    "#Enqueue -add the element\n",
    "#dequeue-remove the element from the front of the queue\n",
    "#peek-return the front element\n",
    "#isempty-check if the queue is empty or not"
   ]
  },
  {
   "cell_type": "code",
   "execution_count": 5,
   "id": "277f0213",
   "metadata": {},
   "outputs": [
    {
     "name": "stdout",
     "output_type": "stream",
     "text": [
      "['1', '2', '3']\n",
      "['2', '3']\n",
      "2\n"
     ]
    }
   ],
   "source": [
    "#visual rep\n",
    "#enqueue\n",
    "queue = []\n",
    "queue.append('1')\n",
    "queue.append('2')\n",
    "queue.append('3')\n",
    "print(queue)\n",
    "#dequeue\n",
    "e = queue.pop(0)\n",
    "print(queue)\n",
    "#peek\n",
    "first = queue[0]\n",
    "print(first)"
   ]
  },
  {
   "cell_type": "code",
   "execution_count": 4,
   "id": "2c309523",
   "metadata": {},
   "outputs": [
    {
     "name": "stdout",
     "output_type": "stream",
     "text": [
      "[1, 2]\n",
      "1\n",
      "[2]\n"
     ]
    }
   ],
   "source": [
    "class my_q:\n",
    "    def __init__(s):\n",
    "        s.q = []\n",
    "    def en_q(s, n):\n",
    "        s.q.append(n)\n",
    "    def de_q(s):\n",
    "        if s.is_empty(s.q):\n",
    "            return \"Queue is empty\"\n",
    "        s.q.pop(0)\n",
    "    def is_empty(s,n):\n",
    "        if n==0:\n",
    "            return True\n",
    "        else:\n",
    "            return False    \n",
    "    def peek(s):\n",
    "        if s.q:\n",
    "            return s.q[0]\n",
    "        else:\n",
    "            return \"Queue is empty\"\n",
    "    def display(s):\n",
    "        print(s.q)    \n",
    "Q = my_q()\n",
    "Q.en_q(1)\n",
    "Q.en_q(2)\n",
    "Q.display()\n",
    "print(Q.peek())\n",
    "Q.de_q()\n",
    "Q.display()"
   ]
  },
  {
   "cell_type": "code",
   "execution_count": 3,
   "id": "eab696ea",
   "metadata": {},
   "outputs": [
    {
     "name": "stdout",
     "output_type": "stream",
     "text": [
      "[1, 2, 3]\n"
     ]
    }
   ],
   "source": [
    "class Q:\n",
    "    def __init__(s):\n",
    "        s.s1=[]\n",
    "        s.s2=[]\n",
    "    def en_q(s,val):\n",
    "        s.s1.append(val)\n",
    "    def de_q(s):\n",
    "        if not s.s2:\n",
    "            while s.s1:\n",
    "                s.s2.append(s.s1.pop())\n",
    "        return s.s2.pop()\n",
    "    def peek(s):\n",
    "        if not s.s2:\n",
    "            while s.s1:\n",
    "                s.s2.append(s.s1.pop())\n",
    "        return s.s2[-1]\n",
    "    def is_empty(s):\n",
    "        return not s.s1 and not s.s2\n",
    "    def dis(s):\n",
    "        print(s.s1)\n",
    "a=Q()\n",
    "a.en_q(1)\n",
    "a.en_q(2)\n",
    "a.en_q(3)\n",
    "a.dis()"
   ]
  },
  {
   "cell_type": "code",
   "execution_count": 2,
   "id": "5f8976f8",
   "metadata": {},
   "outputs": [
    {
     "name": "stdout",
     "output_type": "stream",
     "text": [
      "72\n",
      "56\n",
      "True\n",
      "deque([])\n"
     ]
    }
   ],
   "source": [
    "from collections import deque\n",
    "stack=deque()\n",
    "stack.append(56)\n",
    "stack.append(72)\n",
    "print(stack.pop())\n",
    "print(stack.pop())\n",
    "print(not stack)\n",
    "print(stack)"
   ]
  },
  {
   "cell_type": "code",
   "execution_count": 1,
   "id": "0030dc82",
   "metadata": {},
   "outputs": [
    {
     "name": "stdout",
     "output_type": "stream",
     "text": [
      "deque([12, 10, 8])\n"
     ]
    }
   ],
   "source": [
    "from collections import deque\n",
    "dq=deque()\n",
    "dq.append(10)\n",
    "dq.appendleft(12)\n",
    "dq.append(8)\n",
    "dq.appendleft(5)\n",
    "dq.popleft()\n",
    "print(dq)"
   ]
  }
 ],
 "metadata": {
  "kernelspec": {
   "display_name": "Python 3",
   "language": "python",
   "name": "python3"
  },
  "language_info": {
   "codemirror_mode": {
    "name": "ipython",
    "version": 3
   },
   "file_extension": ".py",
   "mimetype": "text/x-python",
   "name": "python",
   "nbconvert_exporter": "python",
   "pygments_lexer": "ipython3",
   "version": "3.12.6"
  }
 },
 "nbformat": 4,
 "nbformat_minor": 5
}
